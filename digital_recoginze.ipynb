{
  "nbformat": 4,
  "nbformat_minor": 0,
  "metadata": {
    "colab": {
      "name": "digital_recoginze.ipynb",
      "provenance": [],
      "authorship_tag": "ABX9TyNIWZmly7tedho5TkOe/ieS",
      "include_colab_link": true
    },
    "kernelspec": {
      "name": "python3",
      "display_name": "Python 3"
    }
  },
  "cells": [
    {
      "cell_type": "markdown",
      "metadata": {
        "id": "view-in-github",
        "colab_type": "text"
      },
      "source": [
        "<a href=\"https://colab.research.google.com/github/yeb2Binfang/AI_Traffic_Signs/blob/main/digital_recoginze.ipynb\" target=\"_parent\"><img src=\"https://colab.research.google.com/assets/colab-badge.svg\" alt=\"Open In Colab\"/></a>"
      ]
    },
    {
      "cell_type": "markdown",
      "metadata": {
        "id": "4Za8ws2Tkjrx"
      },
      "source": [
        "做一个简单的project，就是通过神经网络正确预测1-9这些阿拉伯数字"
      ]
    },
    {
      "cell_type": "markdown",
      "metadata": {
        "id": "sX7Tss8xkvtp"
      },
      "source": [
        "##导包"
      ]
    },
    {
      "cell_type": "code",
      "metadata": {
        "id": "m551iboTkUH_"
      },
      "source": [
        "import tensorflow as tf\r\n",
        "import random\r\n",
        "import numpy as np"
      ],
      "execution_count": 1,
      "outputs": []
    },
    {
      "cell_type": "markdown",
      "metadata": {
        "id": "7p3OOXkrk4ih"
      },
      "source": [
        "##创建数据和标签的列表\r\n",
        "数据是随机生成的"
      ]
    },
    {
      "cell_type": "code",
      "metadata": {
        "id": "tLHwiaDmk2B9"
      },
      "source": [
        "data = []\r\n",
        "labelList = []"
      ],
      "execution_count": 4,
      "outputs": []
    },
    {
      "cell_type": "markdown",
      "metadata": {
        "id": "kpUTlvMmlFXf"
      },
      "source": [
        "随机生成500个数据，范围是[1,9]"
      ]
    },
    {
      "cell_type": "code",
      "metadata": {
        "id": "YCDhtPFPlD_b"
      },
      "source": [
        "for i in range(500):\r\n",
        "  num = random.randrange(1,10)\r\n",
        "  one_hot = np.zeros(shape=9)\r\n",
        "  one_hot[num-1] = 1\r\n",
        "  data.append(one_hot)\r\n",
        "  labelList.append(one_hot)"
      ],
      "execution_count": 5,
      "outputs": []
    },
    {
      "cell_type": "markdown",
      "metadata": {
        "id": "6GgSgXFElzuY"
      },
      "source": [
        "输出数据看看"
      ]
    },
    {
      "cell_type": "code",
      "metadata": {
        "colab": {
          "base_uri": "https://localhost:8080/"
        },
        "id": "BRrC8zhNlrWQ",
        "outputId": "bc80387e-30d8-48d4-886d-80b4d3125249"
      },
      "source": [
        "print(data[0:5])"
      ],
      "execution_count": 7,
      "outputs": [
        {
          "output_type": "stream",
          "text": [
            "[array([0., 0., 0., 1., 0., 0., 0., 0., 0.]), array([0., 0., 0., 0., 0., 1., 0., 0., 0.]), array([1., 0., 0., 0., 0., 0., 0., 0., 0.]), array([0., 0., 0., 0., 1., 0., 0., 0., 0.]), array([0., 0., 1., 0., 0., 0., 0., 0., 0.])]\n"
          ],
          "name": "stdout"
        }
      ]
    },
    {
      "cell_type": "code",
      "metadata": {
        "colab": {
          "base_uri": "https://localhost:8080/"
        },
        "id": "hdNrQ5Cul6xS",
        "outputId": "c2d49ce2-91ff-411b-9a30-b03e197afc81"
      },
      "source": [
        "print(labelList[0:5])"
      ],
      "execution_count": 8,
      "outputs": [
        {
          "output_type": "stream",
          "text": [
            "[array([0., 0., 0., 1., 0., 0., 0., 0., 0.]), array([0., 0., 0., 0., 0., 1., 0., 0., 0.]), array([1., 0., 0., 0., 0., 0., 0., 0., 0.]), array([0., 0., 0., 0., 1., 0., 0., 0., 0.]), array([0., 0., 1., 0., 0., 0., 0., 0., 0.])]\n"
          ],
          "name": "stdout"
        }
      ]
    },
    {
      "cell_type": "markdown",
      "metadata": {
        "id": "jvXjgGE5mOaj"
      },
      "source": [
        "keras 要求输入是array的形式，所以先用np转换成array的形式"
      ]
    },
    {
      "cell_type": "code",
      "metadata": {
        "id": "9T_ZOoOimIhU"
      },
      "source": [
        "data = np.array(data)\r\n",
        "labelList = np.array(labelList)"
      ],
      "execution_count": 9,
      "outputs": []
    },
    {
      "cell_type": "markdown",
      "metadata": {
        "id": "QdKjk9xJmc2U"
      },
      "source": [
        "设置log的路径方便后面的网络分析"
      ]
    },
    {
      "cell_type": "code",
      "metadata": {
        "id": "ToUPyrDKmcYo"
      },
      "source": [
        "log_dir = 'F:\\Android Learning\\AI交规项目'\r\n",
        "tensorboard_call = tf.keras.callbacks.TensorBoard(log_dir=log_dir,histogram_freq=1)"
      ],
      "execution_count": 11,
      "outputs": []
    },
    {
      "cell_type": "markdown",
      "metadata": {
        "id": "4-ndHW_dnJqo"
      },
      "source": [
        "做一个简单的四层网络"
      ]
    },
    {
      "cell_type": "code",
      "metadata": {
        "id": "J4tCPTe5mbsy"
      },
      "source": [
        "#输入层\r\n",
        "inputs = tf.keras.layers.Input(shape=(9,))\r\n",
        "#这里64的意思是在第二层隐藏中有64个神经元\r\n",
        "#最后那个括号写的是上一层的输出\r\n",
        "x = tf.keras.layers.Dense(64,activation='relu')(inputs)\r\n",
        "#第三层，是个隐藏层，最后那个括号，是上一层的输出\r\n",
        "x = tf.keras.layers.Dense(64,activation='relu')(x)\r\n",
        "#输出层，记得activation要变成‘softmax’，就是要变成概率\r\n",
        "predictions = tf.keras.layers.Dense(9,activation='softmax')(x)\r\n",
        "#封装到这个模型中\r\n",
        "model = tf.keras.models.Model(inputs=inputs,outputs=predictions)"
      ],
      "execution_count": 14,
      "outputs": []
    },
    {
      "cell_type": "markdown",
      "metadata": {
        "id": "yMaAR6lioR5e"
      },
      "source": [
        "训练前的参数设置"
      ]
    },
    {
      "cell_type": "code",
      "metadata": {
        "id": "mZ5TJ3ryoJ6k"
      },
      "source": [
        "model.compile(optimizer='sgd',loss=tf.keras.losses.CategoricalCrossentropy())"
      ],
      "execution_count": 15,
      "outputs": []
    },
    {
      "cell_type": "markdown",
      "metadata": {
        "id": "KwQb-XRvoiKE"
      },
      "source": [
        "训练"
      ]
    },
    {
      "cell_type": "code",
      "metadata": {
        "colab": {
          "base_uri": "https://localhost:8080/"
        },
        "id": "spHZKI20ohVt",
        "outputId": "6912e790-7686-46a3-c7af-9214a80da41a"
      },
      "source": [
        "model.fit(data,labelList,epochs=100,verbose=1,callbacks=[tensorboard_call])"
      ],
      "execution_count": 16,
      "outputs": [
        {
          "output_type": "stream",
          "text": [
            "Epoch 1/100\n",
            "16/16 [==============================] - 1s 5ms/step - loss: 2.2036\n",
            "Epoch 2/100\n",
            "16/16 [==============================] - 0s 1ms/step - loss: 2.1752\n",
            "Epoch 3/100\n",
            "16/16 [==============================] - 0s 1ms/step - loss: 2.1551\n",
            "Epoch 4/100\n",
            "16/16 [==============================] - 0s 1ms/step - loss: 2.1284\n",
            "Epoch 5/100\n",
            "16/16 [==============================] - 0s 1ms/step - loss: 2.0956\n",
            "Epoch 6/100\n",
            "16/16 [==============================] - 0s 1ms/step - loss: 2.0762\n",
            "Epoch 7/100\n",
            "16/16 [==============================] - 0s 1ms/step - loss: 2.0466\n",
            "Epoch 8/100\n",
            "16/16 [==============================] - 0s 1ms/step - loss: 2.0413\n",
            "Epoch 9/100\n",
            "16/16 [==============================] - 0s 1ms/step - loss: 2.0092\n",
            "Epoch 10/100\n",
            "16/16 [==============================] - 0s 1ms/step - loss: 1.9926\n",
            "Epoch 11/100\n",
            "16/16 [==============================] - 0s 1ms/step - loss: 1.9674\n",
            "Epoch 12/100\n",
            "16/16 [==============================] - 0s 1ms/step - loss: 1.9435\n",
            "Epoch 13/100\n",
            "16/16 [==============================] - 0s 2ms/step - loss: 1.9241\n",
            "Epoch 14/100\n",
            "16/16 [==============================] - 0s 2ms/step - loss: 1.8952\n",
            "Epoch 15/100\n",
            "16/16 [==============================] - 0s 1ms/step - loss: 1.8736\n",
            "Epoch 16/100\n",
            "16/16 [==============================] - 0s 2ms/step - loss: 1.8503\n",
            "Epoch 17/100\n",
            "16/16 [==============================] - 0s 1ms/step - loss: 1.8136\n",
            "Epoch 18/100\n",
            "16/16 [==============================] - 0s 1ms/step - loss: 1.7941\n",
            "Epoch 19/100\n",
            "16/16 [==============================] - 0s 1ms/step - loss: 1.7638\n",
            "Epoch 20/100\n",
            "16/16 [==============================] - 0s 1ms/step - loss: 1.7345\n",
            "Epoch 21/100\n",
            "16/16 [==============================] - 0s 1ms/step - loss: 1.6928\n",
            "Epoch 22/100\n",
            "16/16 [==============================] - 0s 2ms/step - loss: 1.6791\n",
            "Epoch 23/100\n",
            "16/16 [==============================] - 0s 1ms/step - loss: 1.6431\n",
            "Epoch 24/100\n",
            "16/16 [==============================] - 0s 1ms/step - loss: 1.6187\n",
            "Epoch 25/100\n",
            "16/16 [==============================] - 0s 1ms/step - loss: 1.5770\n",
            "Epoch 26/100\n",
            "16/16 [==============================] - 0s 1ms/step - loss: 1.5402\n",
            "Epoch 27/100\n",
            "16/16 [==============================] - 0s 1ms/step - loss: 1.5015\n",
            "Epoch 28/100\n",
            "16/16 [==============================] - 0s 1ms/step - loss: 1.4560\n",
            "Epoch 29/100\n",
            "16/16 [==============================] - 0s 1ms/step - loss: 1.4267\n",
            "Epoch 30/100\n",
            "16/16 [==============================] - 0s 1ms/step - loss: 1.3777\n",
            "Epoch 31/100\n",
            "16/16 [==============================] - 0s 1ms/step - loss: 1.3297\n",
            "Epoch 32/100\n",
            "16/16 [==============================] - 0s 1ms/step - loss: 1.2775\n",
            "Epoch 33/100\n",
            "16/16 [==============================] - 0s 1ms/step - loss: 1.2307\n",
            "Epoch 34/100\n",
            "16/16 [==============================] - 0s 2ms/step - loss: 1.1912\n",
            "Epoch 35/100\n",
            "16/16 [==============================] - 0s 1ms/step - loss: 1.1849\n",
            "Epoch 36/100\n",
            "16/16 [==============================] - 0s 1ms/step - loss: 1.1089\n",
            "Epoch 37/100\n",
            "16/16 [==============================] - 0s 2ms/step - loss: 1.0715\n",
            "Epoch 38/100\n",
            "16/16 [==============================] - 0s 1ms/step - loss: 1.0578\n",
            "Epoch 39/100\n",
            "16/16 [==============================] - 0s 1ms/step - loss: 1.0151\n",
            "Epoch 40/100\n",
            "16/16 [==============================] - 0s 1ms/step - loss: 0.9675\n",
            "Epoch 41/100\n",
            "16/16 [==============================] - 0s 1ms/step - loss: 0.9054\n",
            "Epoch 42/100\n",
            "16/16 [==============================] - 0s 1ms/step - loss: 0.8674\n",
            "Epoch 43/100\n",
            "16/16 [==============================] - 0s 2ms/step - loss: 0.8461\n",
            "Epoch 44/100\n",
            "16/16 [==============================] - 0s 2ms/step - loss: 0.7725\n",
            "Epoch 45/100\n",
            "16/16 [==============================] - 0s 2ms/step - loss: 0.7610\n",
            "Epoch 46/100\n",
            "16/16 [==============================] - 0s 1ms/step - loss: 0.7146\n",
            "Epoch 47/100\n",
            "16/16 [==============================] - 0s 1ms/step - loss: 0.6821\n",
            "Epoch 48/100\n",
            "16/16 [==============================] - 0s 1ms/step - loss: 0.6563\n",
            "Epoch 49/100\n",
            "16/16 [==============================] - 0s 1ms/step - loss: 0.6365\n",
            "Epoch 50/100\n",
            "16/16 [==============================] - 0s 1ms/step - loss: 0.5881\n",
            "Epoch 51/100\n",
            "16/16 [==============================] - 0s 1ms/step - loss: 0.5494\n",
            "Epoch 52/100\n",
            "16/16 [==============================] - 0s 1ms/step - loss: 0.5342\n",
            "Epoch 53/100\n",
            "16/16 [==============================] - 0s 1ms/step - loss: 0.5118\n",
            "Epoch 54/100\n",
            "16/16 [==============================] - 0s 1ms/step - loss: 0.4648\n",
            "Epoch 55/100\n",
            "16/16 [==============================] - 0s 1ms/step - loss: 0.4534\n",
            "Epoch 56/100\n",
            "16/16 [==============================] - 0s 1ms/step - loss: 0.4144\n",
            "Epoch 57/100\n",
            "16/16 [==============================] - 0s 1ms/step - loss: 0.4130\n",
            "Epoch 58/100\n",
            "16/16 [==============================] - 0s 1ms/step - loss: 0.3759\n",
            "Epoch 59/100\n",
            "16/16 [==============================] - 0s 1ms/step - loss: 0.3552\n",
            "Epoch 60/100\n",
            "16/16 [==============================] - 0s 1ms/step - loss: 0.3326\n",
            "Epoch 61/100\n",
            "16/16 [==============================] - 0s 1ms/step - loss: 0.3209\n",
            "Epoch 62/100\n",
            "16/16 [==============================] - 0s 1ms/step - loss: 0.3022\n",
            "Epoch 63/100\n",
            "16/16 [==============================] - 0s 1ms/step - loss: 0.2879\n",
            "Epoch 64/100\n",
            "16/16 [==============================] - 0s 1ms/step - loss: 0.2815\n",
            "Epoch 65/100\n",
            "16/16 [==============================] - 0s 1ms/step - loss: 0.2556\n",
            "Epoch 66/100\n",
            "16/16 [==============================] - 0s 1ms/step - loss: 0.2571\n",
            "Epoch 67/100\n",
            "16/16 [==============================] - 0s 1ms/step - loss: 0.2373\n",
            "Epoch 68/100\n",
            "16/16 [==============================] - 0s 2ms/step - loss: 0.2168\n",
            "Epoch 69/100\n",
            "16/16 [==============================] - 0s 1ms/step - loss: 0.2064\n",
            "Epoch 70/100\n",
            "16/16 [==============================] - 0s 1ms/step - loss: 0.2025\n",
            "Epoch 71/100\n",
            "16/16 [==============================] - 0s 1ms/step - loss: 0.1856\n",
            "Epoch 72/100\n",
            "16/16 [==============================] - 0s 1ms/step - loss: 0.1810\n",
            "Epoch 73/100\n",
            "16/16 [==============================] - 0s 1ms/step - loss: 0.1797\n",
            "Epoch 74/100\n",
            "16/16 [==============================] - 0s 1ms/step - loss: 0.1672\n",
            "Epoch 75/100\n",
            "16/16 [==============================] - 0s 2ms/step - loss: 0.1566\n",
            "Epoch 76/100\n",
            "16/16 [==============================] - 0s 1ms/step - loss: 0.1534\n",
            "Epoch 77/100\n",
            "16/16 [==============================] - 0s 1ms/step - loss: 0.1471\n",
            "Epoch 78/100\n",
            "16/16 [==============================] - 0s 1ms/step - loss: 0.1412\n",
            "Epoch 79/100\n",
            "16/16 [==============================] - 0s 1ms/step - loss: 0.1350\n",
            "Epoch 80/100\n",
            "16/16 [==============================] - 0s 1ms/step - loss: 0.1277\n",
            "Epoch 81/100\n",
            "16/16 [==============================] - 0s 1ms/step - loss: 0.1232\n",
            "Epoch 82/100\n",
            "16/16 [==============================] - 0s 1ms/step - loss: 0.1205\n",
            "Epoch 83/100\n",
            "16/16 [==============================] - 0s 1ms/step - loss: 0.1173\n",
            "Epoch 84/100\n",
            "16/16 [==============================] - 0s 1ms/step - loss: 0.1097\n",
            "Epoch 85/100\n",
            "16/16 [==============================] - 0s 2ms/step - loss: 0.1070\n",
            "Epoch 86/100\n",
            "16/16 [==============================] - 0s 1ms/step - loss: 0.1045\n",
            "Epoch 87/100\n",
            "16/16 [==============================] - 0s 1ms/step - loss: 0.0972\n",
            "Epoch 88/100\n",
            "16/16 [==============================] - 0s 1ms/step - loss: 0.0961\n",
            "Epoch 89/100\n",
            "16/16 [==============================] - 0s 2ms/step - loss: 0.0938\n",
            "Epoch 90/100\n",
            "16/16 [==============================] - 0s 1ms/step - loss: 0.0892\n",
            "Epoch 91/100\n",
            "16/16 [==============================] - 0s 1ms/step - loss: 0.0890\n",
            "Epoch 92/100\n",
            "16/16 [==============================] - 0s 1ms/step - loss: 0.0869\n",
            "Epoch 93/100\n",
            "16/16 [==============================] - 0s 1ms/step - loss: 0.0821\n",
            "Epoch 94/100\n",
            "16/16 [==============================] - 0s 1ms/step - loss: 0.0811\n",
            "Epoch 95/100\n",
            "16/16 [==============================] - 0s 1ms/step - loss: 0.0797\n",
            "Epoch 96/100\n",
            "16/16 [==============================] - 0s 1ms/step - loss: 0.0745\n",
            "Epoch 97/100\n",
            "16/16 [==============================] - 0s 1ms/step - loss: 0.0715\n",
            "Epoch 98/100\n",
            "16/16 [==============================] - 0s 1ms/step - loss: 0.0714\n",
            "Epoch 99/100\n",
            "16/16 [==============================] - 0s 1ms/step - loss: 0.0678\n",
            "Epoch 100/100\n",
            "16/16 [==============================] - 0s 1ms/step - loss: 0.0670\n"
          ],
          "name": "stdout"
        },
        {
          "output_type": "execute_result",
          "data": {
            "text/plain": [
              "<tensorflow.python.keras.callbacks.History at 0x7fca6b6ef208>"
            ]
          },
          "metadata": {
            "tags": []
          },
          "execution_count": 16
        }
      ]
    },
    {
      "cell_type": "markdown",
      "metadata": {
        "id": "5PCcKc85pBeJ"
      },
      "source": [
        "预测结果"
      ]
    },
    {
      "cell_type": "code",
      "metadata": {
        "colab": {
          "base_uri": "https://localhost:8080/"
        },
        "id": "osOPW03Jo7qs",
        "outputId": "51b7aca8-0e43-4b48-94ad-6f02a39a1d01"
      },
      "source": [
        "for _ in range(10):\r\n",
        "  num = random.randrange(1,10)\r\n",
        "  one_hot = np.zeros(shape=9)\r\n",
        "  one_hot[num-1]=10\r\n",
        "  predict = np.argmax(model.predict(np.expand_dims(one_hot,axis=0))) + 1\r\n",
        "  print(\"predict num is %d, real num is %d\" %(predict, num))\r\n"
      ],
      "execution_count": 19,
      "outputs": [
        {
          "output_type": "stream",
          "text": [
            "predict num is 8, real num is 8\n",
            "predict num is 1, real num is 1\n",
            "predict num is 3, real num is 3\n",
            "predict num is 6, real num is 6\n",
            "predict num is 5, real num is 5\n",
            "predict num is 4, real num is 4\n",
            "predict num is 4, real num is 4\n",
            "predict num is 3, real num is 3\n",
            "predict num is 5, real num is 5\n",
            "predict num is 9, real num is 9\n"
          ],
          "name": "stdout"
        }
      ]
    },
    {
      "cell_type": "code",
      "metadata": {
        "id": "rJkanjvypsIF"
      },
      "source": [
        ""
      ],
      "execution_count": null,
      "outputs": []
    }
  ]
}